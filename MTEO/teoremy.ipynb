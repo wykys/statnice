{
 "metadata": {
  "language_info": {
   "codemirror_mode": {
    "name": "ipython",
    "version": 3
   },
   "file_extension": ".py",
   "mimetype": "text/x-python",
   "name": "python",
   "nbconvert_exporter": "python",
   "pygments_lexer": "ipython3",
   "version": 3
  },
  "orig_nbformat": 2
 },
 "nbformat": 4,
 "nbformat_minor": 2,
 "cells": [
  {
   "cell_type": "markdown",
   "metadata": {},
   "source": [
    "# Základní teorémy elektronických obvodů"
   ]
  },
  {
   "cell_type": "markdown",
   "metadata": {},
   "source": [
    "## I. Kirchhoffův zákon\n",
    "Součet všech proudů v uzlu je roven nule.\n",
    "$$ \\sum_{k=0}^{n} \\hat{I_k} = 0 $$\n",
    "V zobecněné formě:\n",
    "Na libovolném řezu rozdělujícím obvod na dílčí podobvody je nulová suma proudů tekoucích větvemi řezu.\n"
   ]
  },
  {
   "cell_type": "markdown",
   "metadata": {},
   "source": [
    "## II. Kirchhoffův zákon\n",
    "$$ \\sum_{k=0}^{n} \\hat{U_k} = 0 $$\n",
    "Součet napětí (rozdílu potenciálů) v libovolné uzavřené smyčce obvodu je roven nule."
   ]
  },
  {
   "cell_type": "markdown",
   "metadata": {},
   "source": [
    "## Ohmův zákon\n",
    "$$ \\hat{U} = \\hat{Z} \\cdot \\hat{I} $$\n",
    "$$ \\hat{I} = \\hat{Y} \\cdot \\hat{U} $$\n",
    "Definuje základní vztah mezi napětím, proudem a impedancí, respektive admitancí."
   ]
  },
  {
   "cell_type": "markdown",
   "metadata": {},
   "source": [
    "## Telegenova věta\n",
    "$$ \\sum_{k=0}^{n} u_k \\cdot i_k = 0 $$\n",
    "Součet výkonů nezávislých zdrojů je roven suočtu výkonů dodaných pasivním větvím obvodu (důsledek zákona zachování energie)."
   ]
  }
 ]
}