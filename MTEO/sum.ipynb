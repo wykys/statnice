{
 "metadata": {
  "language_info": {
   "codemirror_mode": {
    "name": "ipython",
    "version": 3
   },
   "file_extension": ".py",
   "mimetype": "text/x-python",
   "name": "python",
   "nbconvert_exporter": "python",
   "pygments_lexer": "ipython3",
   "version": 3
  },
  "orig_nbformat": 2
 },
 "nbformat": 4,
 "nbformat_minor": 2,
 "cells": [
  {
   "cell_type": "markdown",
   "metadata": {},
   "source": [
    "# Šum\n",
    "\n",
    "Je to __náhodný signál__ vyskytující se ve všech elektronických obvodech, kde __narušuje zpracování__ a přenos __užitečného signálu__.\n",
    "\n",
    "Je to signál __náhodné okamžité amplitudy__ s časově __neměnnými statistickými vlastnostmi__.\n",
    "\n",
    "Popis okamžitými hodnotami šumového napětí nebo proudu, lépe __využít spektrální hustoty__ (snáze měřitelné).\n",
    "\n",
    "Podle umístění zdroje dělíme šumy na:\n",
    "* externí (mimo analyzovaný obvod)\n",
    "* interní (uvnitř analyzovaného obvodu)\n",
    "\n",
    "Rozdělení šumu podle kmitočtové závislosti:\n",
    "* __bílý šum__ s __rovnoměrným rozložením kmitočtových složek__ ve spektru.\n",
    "* __barevný šum__ s __nerovnoměrným rozložením kmitočtových složek__ ve spektru."
   ]
  },
  {
   "cell_type": "markdown",
   "metadata": {},
   "source": [
    "## Šumová analýza obvodu\n",
    "* Je nezbytná pro optimalizaci šumového chování obvodu\n",
    "* Cílem je maximální potlačení šumu."
   ]
  },
  {
   "cell_type": "markdown",
   "metadata": {},
   "source": [
    "## Tepelný šum\n",
    "\n",
    "Vyskytuje se ve vodičích i polovodičích a vzniká v důsledku náhodného __pohybu elektronů__ v __odporových strukturách__ při teplotě větší než $0~K$.\n",
    "\n",
    "__Konstantní spektrální výkonová úroveň__ do kmitočtů řádově $100~THz$.\n",
    "\n",
    "$$ P_N = kTB $$\n",
    "kde:\n",
    "* $k$ je Boltzmannova konstanta ($1,38\\cdot10^{-23}~J/K$)\n",
    "* $T$ je fyzická teplota zeristoru v $K$\n",
    "* $B$ je šířka pásma\n",
    "\n",
    "### Z toho vyplývá:\n",
    "* Tepelný šup nezávisí na pracovní frekvenci obvodu, ale šířce pásma.\n",
    "* Úzkopásmové obvody produkují méně šumu.\n",
    "* Chladnější součástky produkujé méně šumu.\n",
    "\n",
    "### Vyjádření v dBm\n",
    "Často ve používá u vyjádření šumu v decibelech vztažených na jeden mili wat.\n",
    "$$ P_N(dBm) = 10 \\log(10^3 \\cdot kTB) = 10 \\log(10^3 \\cdot kT) + 10 \\log(B) $$"
   ]
  },
  {
   "cell_type": "markdown",
   "metadata": {},
   "source": [
    "## Výstřelový šum\n",
    "* __Vzniká__ při __průchodu__ nosičů __náboje PN přechodem__, přesněji stejnosměrného napětí PN přechodem, vlivem kvantové\n",
    "generace a rekombinace náboje.\n",
    "* Vyskytuje se u tranzistorů a diod.\n",
    "* Vykazuje __konstantní spektrální hustotu výkonu__."
   ]
  },
  {
   "cell_type": "markdown",
   "metadata": {},
   "source": [
    "## Šum 1/f (růžový)\n",
    "* __Vzniká__ v důsledku __poruchy krystalové mřížky__ polovodičů a vlivem __nečistot__ v polovodiči.\n",
    "* Jeho spektrální hustota výkonu klesá s rostoucí frekvencí.\n",
    "* Nejvíce se projevuje na nižších frekvencí cca do jednotěk až desítek $MHz$.\n",
    "\n",
    "### Blikavý šum\n",
    "* Je __způsoben poruchami v krystalové mřížce__.\n",
    "* Spektrální hustota výkonu klesá s rostoucím kmitočtem.\n",
    "* Označuje se jako šum 1/f.\n",
    "\n",
    "### Praskavý šum\n",
    "* Vzniká vlivem __znečištění přechodu__ mezi bází a emitorem __ionty těžkých kovů__.\n",
    "* Spektrální hustota výkonu klesá s rostoucím kmitočtem.\n",
    "* Jedná se opět o šum 1/f."
   ]
  },
  {
   "cell_type": "markdown",
   "metadata": {},
   "source": [
    "## Využití bílého šumu v praxi\n",
    "* Testování kmitočtové odezvy zesilovačů, elektrických filtrů a podobných obvodů.\n",
    "* Generování náhodnýchčísel.\n",
    "* Automatická equalizace.\n",
    "\n",
    "## Využití šedého šumu v praxi\n",
    "* V psychoakustice k měření křivky hlasitosti."
   ]
  },
  {
   "cell_type": "markdown",
   "metadata": {},
   "source": [
    "## Ekvivalentní šumová teplota\n",
    "Zdroj tepelného šumu může být simulován zdrojem bílého šumu, který je charakterizován jeho ekvivalentní šumovou teplotou.\n",
    "Toho s edá byužít pro přepočet zdroje šumícího napětí a nešumícího rezistoru na šumící rezistor.\n",
    "$$ T_e = \\frac{P_N}{kB} $$"
   ]
  },
  {
   "cell_type": "markdown",
   "metadata": {},
   "source": [
    "## Šumové číslo\n",
    "Šumové číslo __udává__, __kolikrát__ se __zhorší__ poměr __signál / šum__ na __výstupu__ obvodu proti původní hodnotě na __vstupu__ obvodu, a to při oboustranném __výkonovém přizpůsobení__.\n",
    "\n",
    "$$ F = \\dfrac{\\dfrac{P_{SIG_{IN}}}{P_{NOISE_{IN}}}}{\\dfrac{P_{SIG_{OUT}}}{P_{NOISE_{OUT}}}} $$\n",
    "\n",
    "* Pokud obvod neobsahuje šum, $F=1$.\n",
    "\n",
    "### Lze vyjádřit i v decibelech:\n",
    "$$ F_{dB} = 10 \\log{F} $$\n",
    "\n",
    "### Freesův vztah\n",
    "Pokud je obvod tvořen kaskádou několika dvojbranů s šumovými čísly $F_1, F_2, …, F_n$ potom platí:\n",
    "$$ F = F_1 + \\frac{F_2 - 1}{A_1} + \\frac{F_3 - 1}{A_1A_2} + ... + \\frac{F_n - 1}{\\Pi_{i=1}^{n-1}A_i} $$\n",
    "\n",
    "### Minimalizace šumu\n",
    "* Maximalizace výkonového zisku $A_1$.\n",
    "* Mimimalizace šumového čísla $F_1$."
   ]
  },
  {
   "cell_type": "markdown",
   "metadata": {},
   "source": [
    "## Míra šumu\n",
    "* Veličina, na jejímž základě lze stanovit vhodné pořadí dvojbranů v kaskádě.\n",
    "* Z Freesova vztahu plyne, že na začátek kaskády je vhodné umístit dvojbran s co nejmenší mírou šumu.\n",
    "$$ M_i = \\frac{F_i - 1}{1 - \\frac{1}{A}} $$"
   ]
  },
  {
   "cell_type": "markdown",
   "metadata": {},
   "source": [
    "## Vlastní šumová teplota obvodu\n",
    "* Tato veličina byla zavedena pro obvody s velmi malým šumovým číslem.\n",
    "$$ T_V = (F - 1) T_0 $$\n",
    "Kde: $T_0$ je referenční teplota $T_0 = 290~K$"
   ]
  },
  {
   "cell_type": "markdown",
   "metadata": {},
   "source": [
    "## Šum bipolárního tranzistoru\n",
    "* Zdroj napětí reprezentuje tepelný šum rezistoru Rb.\n",
    "* Pproudové zdroje modelují výstřelové šumy přechodů B-C a B-E, korelované hodnoty způsobené Ic\n",
    "\n",
    "### Nejnižší hodnotu šumu získáme při:\n",
    "* Co nejmenší hodnotě rezistoru $R_b$.\n",
    "* Co nejmenším proudovém zesilovacím činiteli $\\beta$ a malém proudu emitorem.\n",
    "* Mezním kmitočtu tranzistoru alespoň desetkrát vyššímnež je pracovní kmitočet obvodu."
   ]
  },
  {
   "cell_type": "markdown",
   "metadata": {},
   "source": [
    "## Šum unipolárního tranzistoru\n",
    "* Unipolární tranzistory mají obecně lepší šumové vlastnosti než bipolární tranzistory.\n",
    "* Hhlavní zdroje šumu unipolárního tranzistoru:\n",
    "    * Tepelný šum kanálu vznikající na činné složce impedance kanálu.\n",
    "    * Indukovaný šum hradla se přenáší přes parazitní kapacitu mezi hradlem a emitorem $C_{GS}$.\n",
    "    * Tepelné šumy parazitních odporů $R_D, R_S, R_G$.\n",
    "* Výstřelový šum hradla, lze zanedbat u tranzistorů MOS."
   ]
  },
  {
   "cell_type": "markdown",
   "metadata": {},
   "source": [
    "## Šum operačního zesilovače\n",
    "* Každý operační zesilovač obsahuje mnoho druhů šumu, které se pro analýzu přepočítají na vstup.\n",
    "\n",
    "### Nízkošumové operační zesilovače\n",
    "* Optimalizovány na malý šum napětí.\n",
    "* Při velkém odporu zdroje signálu mají proudové šumy dominantní význam.\n",
    "* Vstupní diferenční stupeň realizován bipolární technologií."
   ]
  },
  {
   "cell_type": "markdown",
   "metadata": {},
   "source": [
    "## Šumová šířka pásma\n",
    "Je dána definičním vztahem:\n",
    "$$ \\int_0^\\infty p(f) df = p(f_0)B_N \\Rightarrow B_N = \\frac{1}{p(f_0)} \\int_0^\\infty p(f) df $$"
   ]
  }
 ]
}