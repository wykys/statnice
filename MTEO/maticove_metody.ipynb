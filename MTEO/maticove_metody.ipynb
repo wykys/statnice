{
 "metadata": {
  "language_info": {
   "codemirror_mode": {
    "name": "ipython",
    "version": 3
   },
   "file_extension": ".py",
   "mimetype": "text/x-python",
   "name": "python",
   "nbconvert_exporter": "python",
   "pygments_lexer": "ipython3",
   "version": "3.6.9-final"
  },
  "orig_nbformat": 2,
  "kernelspec": {
   "name": "python36964bit95bac711503047bb8796856f82bf97c4",
   "display_name": "Python 3.6.9 64-bit"
  }
 },
 "nbformat": 4,
 "nbformat_minor": 2,
 "cells": [
  {
   "cell_type": "markdown",
   "metadata": {},
   "source": [
    "# Maticové metody analýzy lineárních obvodů\n"
   ]
  },
  {
   "cell_type": "code",
   "execution_count": 1,
   "metadata": {},
   "outputs": [],
   "source": [
    "import sympy as sp\n",
    "import numpy as np\n",
    "from numpy import pi\n",
    "from matplotlib import pyplot as plt\n",
    "from copy import deepcopy\n",
    "from IPython.display import display, Math\n",
    "\n",
    "def tex(*arg):\n",
    "    tmp = []\n",
    "    for a in arg:\n",
    "        if type(a) is str:\n",
    "            \n",
    "            format_hat = False\n",
    "            format_bolt = False\n",
    "            \n",
    "            if a == '*':\n",
    "                a = '\\cdot'\n",
    "            \n",
    "            if a.startswith('__'):\n",
    "                format_bolt = True\n",
    "                a = a[2:]\n",
    "            \n",
    "            if a.startswith('^'):\n",
    "                format_hat = True\n",
    "                a = a[1:]\n",
    "            \n",
    "            if format_bolt:\n",
    "                a = f'\\\\boldsymbol{{{a}}}'\n",
    "            if format_hat:\n",
    "                a = f'\\\\hat{{{a}}}'\n",
    "\n",
    "        tmp.append(sp.latex(a))    \n",
    "    display(Math(' '.join(tmp)))"
   ]
  },
  {
   "cell_type": "markdown",
   "metadata": {},
   "source": [
    "## Incidenční matice smyček a větví\n",
    "\n",
    "### Smyček\n",
    "\n",
    "* $d_{ik}=1$ když se orientace i-té smyčky shoduje s orientací k-té větve\n",
    "* $d_{ik}=-1$ když je orientace i-té smyčky opačná s orientací k-té větve\n",
    "* $d_{ik}=0$ když k-tá větev není součástí i-té smyčky\n",
    "* Incidenční matice se označuje __D__\n",
    "\n",
    "### Větví\n",
    "\n",
    "* $m_{ik}=1$ když z i-tého uzlu k-tá větev vystupuje\n",
    "* $m_{ik}=-1$ když do i-tého uzlu k-tá větev vstupuje\n",
    "* $m_{ik}=0$ když i-tý uzel s k-tou větví nesouvisí\n",
    "* Incidenční matice se označuje __M__\n",
    "\n",
    "Jsou-li větve v incidenčních maticích __D__ a __M__ uspořádány stejně, potom platí ortogonální vztahy:\n",
    "$$ \\boldsymbol{M^TD = D^TM = 0} $$\n",
    "\n",
    "* Incidenční matice umožňují algoritmizování maticových metod pro řešení na počítači\n",
    "* Veškerá větvová napětí lze vyjádřit jako rozdíly uzlových napětí, tedy maticovým zápisem\n",
    "$$ \\boldsymbol{ U_{\\text{VĚTEV}} = M^T U_{\\text{UZEL}} } $$"
   ]
  },
  {
   "cell_type": "markdown",
   "metadata": {},
   "source": [
    "## MSPM - Metoda smyčkových proudů (Loop Current Method)\n",
    "* motivací je __zmenšení__ počtu __řešených rovnic__, __zavedeme__ (zvolíme) __fiktivní__ smyčkové __proudy__ $I_S$ (nové neznámé) mezi nimi a skutečnými proudy (větvemi) I_V bude platit: $$I_V = D^TI_S$$\n",
    "* kde __D__ je incidenční matice smyček a větví\n",
    "* volíme __vějířovitý tvar__ úplného __stromu__ soustavy, potom jsou jednotlivé smyčky přehledně rozprostřeny a __dotýkají se minimálním počtem větví__\n",
    "\n",
    "### Postup řešení u metody smyčkových proudů\n",
    "* __Nelze řešit obvody s nezávislými zdroji proudu__\n",
    "* Budící zdroje proudu přepočítáme na ekvivalentní zdroje napětí\n",
    "* __Sestavíme__ s __nezávislých rovnic__ podle __druhého Kirchhoffova zákona__ (lineární nehomogenní soustava rovnic)\n",
    "* __Řešení__ získáme __inverzí impedanční matice__\n",
    "\n",
    "$$ U = ZI $$\n",
    "$$ I = Z^{-1}U $$\n",
    "\n",
    "Kde:\n",
    "* __U__ je vektor známých uzlových napětí\n",
    "* __Z__ je impedanční matice soustavy\n",
    "* __I__ je vektor neznámých smyčkových proudů\n",
    "\n",
    "$$ I_{S1} = \\frac{\\Delta_1}{\\Delta}, I_{S2} = \\frac{\\Delta_2}{\\Delta}, ... $$"
   ]
  },
  {
   "cell_type": "markdown",
   "metadata": {},
   "source": [
    "## Algoritmizace metody smyčkových proudů\n",
    "\n",
    " * Vychází s využití __incidenčních matic__ a __impedanční matice větví__ $Z_V$ což je čtvercová diagonální matice s __impedancemi větví__ v __hlavní diagonále__ \n",
    "(jinak jsou prvky nulové)\n",
    "\n",
    "$$ Z_S = DZ_VD^T $$\n",
    "\n",
    "* Matice $Z_V$ je součástí impedančního popisu jednotlivých větví obvodu v globálním tvaru\n",
    "\n",
    "$$ U_V = Z_VI_V $$\n",
    "\n",
    "* Kde: $U_V$ a $I_V$ jsou vektory napětí a proudů všech větví\n",
    "\n",
    "* U elektronických __obvodů obsahující regulární dvojbrany__ je výše uvedený __postup nezbytný__\n",
    "* U __obvodů obsahujících pouze dvojpóly__ lze __snáze získat impedanční matici__ postupem:\n",
    "    1. prvky v hlavní diagonále jsou součtem impedancí všech dvojpólů zapojených ve větvích příslušné smyčky\n",
    "    2. prvky mimo hlavní diagonálu jsou vždy rovny dvojpólu zapojenému ve větvi společné oběma smyčkám, přičemž znaménko je kladné při shodném směru smyčkových proudů"
   ]
  },
  {
   "cell_type": "code",
   "execution_count": 2,
   "metadata": {},
   "outputs": [],
   "source": [
    "s = sp.Symbol('s')\n",
    "\n",
    "R1 = sp.Symbol('R_1')\n",
    "R2 = sp.Symbol('R_2')\n",
    "R3 = sp.Symbol('R_3')\n",
    "R4 = sp.Symbol('R_4')\n",
    "R5 = sp.Symbol('R_5')\n",
    "L1 = sp.Symbol('L_1')\n",
    "L2 = sp.Symbol('L_2')\n",
    "C1 = sp.Symbol('C_1')\n",
    "C2 = sp.Symbol('C_2')\n",
    "\n",
    "Z_L1 = s*L1\n",
    "Z_L2 = s*L2\n",
    "Z_C1 = 1/(s*C1)\n",
    "Z_C2 = 1/(s*C2)\n",
    "\n",
    "Iv1 = sp.Symbol('I_{V1}')\n",
    "Iv2 = sp.Symbol('I_{V2}')\n",
    "Iv3 = sp.Symbol('I_{V3}')\n",
    "Iv4 = sp.Symbol('I_{V4}')\n",
    "Iv5 = sp.Symbol('I_{V5}')\n",
    "Iv6 = sp.Symbol('I_{V6}')\n",
    "Iv7 = sp.Symbol('I_{V7}')\n",
    "Iv = sp.Matrix([Iv1,Iv2,Iv3,Iv4,Iv5,Iv6,Iv7])\n",
    "\n",
    "Is1 = sp.Symbol('I_{S1}')\n",
    "Is2 = sp.Symbol('I_{S2}')\n",
    "Is3 = sp.Symbol('I_{S3}')\n",
    "Is4 = sp.Symbol('I_{S4}')\n",
    "Is = sp.Matrix([Is1,Is2,Is3,Is4])\n",
    "\n",
    "U1 = sp.Symbol('U_1')\n",
    "Us = sp.Matrix([U1,0,0,0])\n"
   ]
  },
  {
   "cell_type": "markdown",
   "metadata": {},
   "source": [
    "### Ukázkový příklad:\n",
    "![](img/sch_msp.png)"
   ]
  },
  {
   "cell_type": "code",
   "execution_count": 3,
   "metadata": {
    "tags": []
   },
   "outputs": [
    {
     "output_type": "display_data",
     "data": {
      "text/plain": "<IPython.core.display.Math object>",
      "text/latex": "$\\displaystyle \\boldsymbol{D} = \\left[\\begin{matrix}1 & 1 & 1 & 0 & 0 & 0 & 0\\\\0 & 0 & 0 & 0 & -1 & 1 & 0\\\\0 & 0 & -1 & 1 & 1 & 0 & 0\\\\0 & -1 & 0 & -1 & 0 & 0 & 1\\end{matrix}\\right]$"
     },
     "metadata": {}
    }
   ],
   "source": [
    "D = sp.Matrix([\n",
    "    [1,1,1,0,0,0,0],\n",
    "    [0,0,0,0,-1,1,0],\n",
    "    [0,0,-1,1,1,0,0],\n",
    "    [0,-1,0,-1,0,0,1]\n",
    "])\n",
    "tex('__D', '=', D)"
   ]
  },
  {
   "cell_type": "code",
   "execution_count": 4,
   "metadata": {},
   "outputs": [
    {
     "output_type": "display_data",
     "data": {
      "text/plain": "<IPython.core.display.Math object>",
      "text/latex": "$\\displaystyle \\boldsymbol{D} \\cdot \\boldsymbol{I_V} = \\boldsymbol{I_S}$"
     },
     "metadata": {}
    },
    {
     "output_type": "display_data",
     "data": {
      "text/plain": "<IPython.core.display.Math object>",
      "text/latex": "$\\displaystyle \\left[\\begin{matrix}1 & 1 & 1 & 0 & 0 & 0 & 0\\\\0 & 0 & 0 & 0 & -1 & 1 & 0\\\\0 & 0 & -1 & 1 & 1 & 0 & 0\\\\0 & -1 & 0 & -1 & 0 & 0 & 1\\end{matrix}\\right] \\cdot \\left[\\begin{matrix}I_{V1}\\\\I_{V2}\\\\I_{V3}\\\\I_{V4}\\\\I_{V5}\\\\I_{V6}\\\\I_{V7}\\end{matrix}\\right] = \\left[\\begin{matrix}I_{V1} + I_{V2} + I_{V3}\\\\- I_{V5} + I_{V6}\\\\- I_{V3} + I_{V4} + I_{V5}\\\\- I_{V2} - I_{V4} + I_{V7}\\end{matrix}\\right] = \\left[\\begin{matrix}I_{S1}\\\\I_{S2}\\\\I_{S3}\\\\I_{S4}\\end{matrix}\\right]$"
     },
     "metadata": {}
    }
   ],
   "source": [
    "tex('__D', '*', '__I_V', '=', '__I_S')\n",
    "tex(D, '*', Iv, '=', D*Iv, '=', Is)"
   ]
  },
  {
   "cell_type": "code",
   "execution_count": 5,
   "metadata": {},
   "outputs": [
    {
     "output_type": "display_data",
     "data": {
      "text/plain": "<IPython.core.display.Math object>",
      "text/latex": "$\\displaystyle \\boldsymbol{D^T} \\cdot \\boldsymbol{I_S} = \\boldsymbol{I_V}$"
     },
     "metadata": {}
    },
    {
     "output_type": "display_data",
     "data": {
      "text/plain": "<IPython.core.display.Math object>",
      "text/latex": "$\\displaystyle \\left[\\begin{matrix}1 & 0 & 0 & 0\\\\1 & 0 & 0 & -1\\\\1 & 0 & -1 & 0\\\\0 & 0 & 1 & -1\\\\0 & -1 & 1 & 0\\\\0 & 1 & 0 & 0\\\\0 & 0 & 0 & 1\\end{matrix}\\right] \\cdot \\left[\\begin{matrix}I_{S1}\\\\I_{S2}\\\\I_{S3}\\\\I_{S4}\\end{matrix}\\right] = \\left[\\begin{matrix}I_{S1}\\\\I_{S1} - I_{S4}\\\\I_{S1} - I_{S3}\\\\I_{S3} - I_{S4}\\\\- I_{S2} + I_{S3}\\\\I_{S2}\\\\I_{S4}\\end{matrix}\\right] = \\left[\\begin{matrix}I_{V1}\\\\I_{V2}\\\\I_{V3}\\\\I_{V4}\\\\I_{V5}\\\\I_{V6}\\\\I_{V7}\\end{matrix}\\right]$"
     },
     "metadata": {}
    }
   ],
   "source": [
    "tex('__D^T', '*', '__I_S', '=', '__I_V')\n",
    "tex(D.T, '*', Is, '=', D.T * Is, '=', Iv)"
   ]
  },
  {
   "cell_type": "code",
   "execution_count": 6,
   "metadata": {},
   "outputs": [
    {
     "output_type": "display_data",
     "data": {
      "text/plain": "<IPython.core.display.Math object>",
      "text/latex": "$\\displaystyle Z_V= \\left[\\begin{matrix}R_{1} & 0 & 0 & 0 & 0 & 0 & 0\\\\0 & \\frac{1}{C_{1} s} & 0 & 0 & 0 & 0 & 0\\\\0 & 0 & R_{2} & 0 & 0 & 0 & 0\\\\0 & 0 & 0 & L_{1} s + R_{4} & 0 & 0 & 0\\\\0 & 0 & 0 & 0 & \\frac{1}{C_{2} s} & 0 & 0\\\\0 & 0 & 0 & 0 & 0 & L_{1} s + R_{5} & 0\\\\0 & 0 & 0 & 0 & 0 & 0 & R_{3}\\end{matrix}\\right]$"
     },
     "metadata": {}
    }
   ],
   "source": [
    "Zv = sp.Matrix([\n",
    "    [R1,0,0,0,0,0,0],\n",
    "    [0,Z_C1,0,0,0,0,0],\n",
    "    [0,0,R2,0,0,0,0],\n",
    "    [0,0,0,Z_L1+R4,0,0,0],\n",
    "    [0,0,0,0,Z_C2,0,0],\n",
    "    [0,0,0,0,0,R5+Z_L2,0],\n",
    "    [0,0,0,0,0,0,R3]\n",
    "])\n",
    "tex('Z_V=', Zv)"
   ]
  },
  {
   "cell_type": "code",
   "execution_count": 7,
   "metadata": {
    "tags": []
   },
   "outputs": [
    {
     "output_type": "display_data",
     "data": {
      "text/plain": "<IPython.core.display.Math object>",
      "text/latex": "$\\displaystyle Z_S = D Z_V D^T= \\left[\\begin{matrix}R_{1} + R_{2} + \\frac{1}{C_{1} s} & 0 & - R_{2} & - \\frac{1}{C_{1} s}\\\\0 & L_{1} s + R_{5} + \\frac{1}{C_{2} s} & - \\frac{1}{C_{2} s} & 0\\\\- R_{2} & - \\frac{1}{C_{2} s} & L_{1} s + R_{2} + R_{4} + \\frac{1}{C_{2} s} & - L_{1} s - R_{4}\\\\- \\frac{1}{C_{1} s} & 0 & - L_{1} s - R_{4} & L_{1} s + R_{3} + R_{4} + \\frac{1}{C_{1} s}\\end{matrix}\\right]$"
     },
     "metadata": {}
    },
    {
     "output_type": "display_data",
     "data": {
      "text/plain": "<IPython.core.display.Math object>",
      "text/latex": "$\\displaystyle \\left[\\begin{matrix}1 & 1 & 1 & 0 & 0 & 0 & 0\\\\0 & 0 & 0 & 0 & -1 & 1 & 0\\\\0 & 0 & -1 & 1 & 1 & 0 & 0\\\\0 & -1 & 0 & -1 & 0 & 0 & 1\\end{matrix}\\right] \\cdot \\left[\\begin{matrix}R_{1} & 0 & 0 & 0 & 0 & 0 & 0\\\\0 & \\frac{1}{C_{1} s} & 0 & 0 & 0 & 0 & 0\\\\0 & 0 & R_{2} & 0 & 0 & 0 & 0\\\\0 & 0 & 0 & L_{1} s + R_{4} & 0 & 0 & 0\\\\0 & 0 & 0 & 0 & \\frac{1}{C_{2} s} & 0 & 0\\\\0 & 0 & 0 & 0 & 0 & L_{1} s + R_{5} & 0\\\\0 & 0 & 0 & 0 & 0 & 0 & R_{3}\\end{matrix}\\right] = \\left[\\begin{matrix}R_{1} & \\frac{1}{C_{1} s} & R_{2} & 0 & 0 & 0 & 0\\\\0 & 0 & 0 & 0 & - \\frac{1}{C_{2} s} & L_{1} s + R_{5} & 0\\\\0 & 0 & - R_{2} & L_{1} s + R_{4} & \\frac{1}{C_{2} s} & 0 & 0\\\\0 & - \\frac{1}{C_{1} s} & 0 & - L_{1} s - R_{4} & 0 & 0 & R_{3}\\end{matrix}\\right]$"
     },
     "metadata": {}
    },
    {
     "output_type": "display_data",
     "data": {
      "text/plain": "<IPython.core.display.Math object>",
      "text/latex": "$\\displaystyle \\left[\\begin{matrix}R_{1} & \\frac{1}{C_{1} s} & R_{2} & 0 & 0 & 0 & 0\\\\0 & 0 & 0 & 0 & - \\frac{1}{C_{2} s} & L_{1} s + R_{5} & 0\\\\0 & 0 & - R_{2} & L_{1} s + R_{4} & \\frac{1}{C_{2} s} & 0 & 0\\\\0 & - \\frac{1}{C_{1} s} & 0 & - L_{1} s - R_{4} & 0 & 0 & R_{3}\\end{matrix}\\right] \\cdot \\left[\\begin{matrix}1 & 0 & 0 & 0\\\\1 & 0 & 0 & -1\\\\1 & 0 & -1 & 0\\\\0 & 0 & 1 & -1\\\\0 & -1 & 1 & 0\\\\0 & 1 & 0 & 0\\\\0 & 0 & 0 & 1\\end{matrix}\\right] = \\left[\\begin{matrix}R_{1} + R_{2} + \\frac{1}{C_{1} s} & 0 & - R_{2} & - \\frac{1}{C_{1} s}\\\\0 & L_{1} s + R_{5} + \\frac{1}{C_{2} s} & - \\frac{1}{C_{2} s} & 0\\\\- R_{2} & - \\frac{1}{C_{2} s} & L_{1} s + R_{2} + R_{4} + \\frac{1}{C_{2} s} & - L_{1} s - R_{4}\\\\- \\frac{1}{C_{1} s} & 0 & - L_{1} s - R_{4} & L_{1} s + R_{3} + R_{4} + \\frac{1}{C_{1} s}\\end{matrix}\\right]$"
     },
     "metadata": {}
    }
   ],
   "source": [
    "Zs = D * Zv * D.T\n",
    "tex('Z_S = D Z_V D^T=', Zs)\n",
    "tex(D,'*',Zv,'=',D * Zv)\n",
    "tex(D*Zv,'*',D.T,'=',Zs)"
   ]
  },
  {
   "cell_type": "code",
   "execution_count": 8,
   "metadata": {},
   "outputs": [
    {
     "output_type": "display_data",
     "data": {
      "text/plain": "<IPython.core.display.Math object>",
      "text/latex": "$\\displaystyle \\left[\\begin{matrix}U_{1}\\\\0\\\\0\\\\0\\end{matrix}\\right] = \\left[\\begin{matrix}R_{1} + R_{2} + \\frac{1}{C_{1} s} & 0 & - R_{2} & - \\frac{1}{C_{1} s}\\\\0 & L_{1} s + R_{5} + \\frac{1}{C_{2} s} & - \\frac{1}{C_{2} s} & 0\\\\- R_{2} & - \\frac{1}{C_{2} s} & L_{1} s + R_{2} + R_{4} + \\frac{1}{C_{2} s} & - L_{1} s - R_{4}\\\\- \\frac{1}{C_{1} s} & 0 & - L_{1} s - R_{4} & L_{1} s + R_{3} + R_{4} + \\frac{1}{C_{1} s}\\end{matrix}\\right] \\cdot \\left[\\begin{matrix}I_{S1}\\\\I_{S2}\\\\I_{S3}\\\\I_{S4}\\end{matrix}\\right]$"
     },
     "metadata": {}
    }
   ],
   "source": [
    "tex(Us,'=',Zs,'*',Is)"
   ]
  },
  {
   "cell_type": "code",
   "execution_count": 9,
   "metadata": {},
   "outputs": [
    {
     "output_type": "display_data",
     "data": {
      "text/plain": "<IPython.core.display.Math object>",
      "text/latex": "$\\displaystyle \\left[\\begin{matrix}U_{1} & 0 & - R_{2} & - \\frac{1}{C_{1} s}\\\\0 & L_{1} s + R_{5} + \\frac{1}{C_{2} s} & - \\frac{1}{C_{2} s} & 0\\\\0 & - \\frac{1}{C_{2} s} & L_{1} s + R_{2} + R_{4} + \\frac{1}{C_{2} s} & - L_{1} s - R_{4}\\\\0 & 0 & - L_{1} s - R_{4} & L_{1} s + R_{3} + R_{4} + \\frac{1}{C_{1} s}\\end{matrix}\\right]$"
     },
     "metadata": {}
    },
    {
     "output_type": "display_data",
     "data": {
      "text/plain": "<IPython.core.display.Math object>",
      "text/latex": "$\\displaystyle \\left[\\begin{matrix}R_{1} + R_{2} + \\frac{1}{C_{1} s} & U_{1} & - R_{2} & - \\frac{1}{C_{1} s}\\\\0 & 0 & - \\frac{1}{C_{2} s} & 0\\\\- R_{2} & 0 & L_{1} s + R_{2} + R_{4} + \\frac{1}{C_{2} s} & - L_{1} s - R_{4}\\\\- \\frac{1}{C_{1} s} & 0 & - L_{1} s - R_{4} & L_{1} s + R_{3} + R_{4} + \\frac{1}{C_{1} s}\\end{matrix}\\right]$"
     },
     "metadata": {}
    },
    {
     "output_type": "display_data",
     "data": {
      "text/plain": "<IPython.core.display.Math object>",
      "text/latex": "$\\displaystyle \\left[\\begin{matrix}R_{1} + R_{2} + \\frac{1}{C_{1} s} & 0 & U_{1} & - \\frac{1}{C_{1} s}\\\\0 & L_{1} s + R_{5} + \\frac{1}{C_{2} s} & 0 & 0\\\\- R_{2} & - \\frac{1}{C_{2} s} & 0 & - L_{1} s - R_{4}\\\\- \\frac{1}{C_{1} s} & 0 & 0 & L_{1} s + R_{3} + R_{4} + \\frac{1}{C_{1} s}\\end{matrix}\\right]$"
     },
     "metadata": {}
    },
    {
     "output_type": "display_data",
     "data": {
      "text/plain": "<IPython.core.display.Math object>",
      "text/latex": "$\\displaystyle \\left[\\begin{matrix}R_{1} + R_{2} + \\frac{1}{C_{1} s} & 0 & - R_{2} & U_{1}\\\\0 & L_{1} s + R_{5} + \\frac{1}{C_{2} s} & - \\frac{1}{C_{2} s} & 0\\\\- R_{2} & - \\frac{1}{C_{2} s} & L_{1} s + R_{2} + R_{4} + \\frac{1}{C_{2} s} & 0\\\\- \\frac{1}{C_{1} s} & 0 & - L_{1} s - R_{4} & 0\\end{matrix}\\right]$"
     },
     "metadata": {}
    }
   ],
   "source": [
    "M1 = deepcopy(Zs)\n",
    "M1[:, 0] = Us\n",
    "tex(M1)\n",
    "\n",
    "M2 = deepcopy(Zs)\n",
    "M2[:, 1] = Us\n",
    "tex(M2)\n",
    "\n",
    "M3 = deepcopy(Zs)\n",
    "M3[:, 2] = Us\n",
    "tex(M3)\n",
    "\n",
    "M4 = deepcopy(Zs)\n",
    "M4[:, 3] = Us\n",
    "tex(M4)"
   ]
  },
  {
   "cell_type": "code",
   "execution_count": 10,
   "metadata": {},
   "outputs": [
    {
     "output_type": "display_data",
     "data": {
      "text/plain": "<IPython.core.display.Math object>",
      "text/latex": "$\\displaystyle \\Delta= \\frac{C_{1} C_{2} L_{1}^{2} R_{1} R_{2} s^{4} + C_{1} C_{2} L_{1}^{2} R_{1} R_{3} s^{4} + C_{1} C_{2} L_{1}^{2} R_{2} R_{3} s^{4} + C_{1} C_{2} L_{1} R_{1} R_{2} R_{3} s^{3} + C_{1} C_{2} L_{1} R_{1} R_{2} R_{4} s^{3} + C_{1} C_{2} L_{1} R_{1} R_{2} R_{5} s^{3} + C_{1} C_{2} L_{1} R_{1} R_{3} R_{4} s^{3} + C_{1} C_{2} L_{1} R_{1} R_{3} R_{5} s^{3} + C_{1} C_{2} L_{1} R_{2} R_{3} R_{4} s^{3} + C_{1} C_{2} L_{1} R_{2} R_{3} R_{5} s^{3} + C_{1} C_{2} R_{1} R_{2} R_{3} R_{5} s^{2} + C_{1} C_{2} R_{1} R_{2} R_{4} R_{5} s^{2} + C_{1} C_{2} R_{1} R_{3} R_{4} R_{5} s^{2} + C_{1} C_{2} R_{2} R_{3} R_{4} R_{5} s^{2} + C_{1} L_{1}^{2} R_{1} s^{3} + C_{1} L_{1}^{2} R_{2} s^{3} + C_{1} L_{1} R_{1} R_{2} s^{2} + 2 C_{1} L_{1} R_{1} R_{3} s^{2} + C_{1} L_{1} R_{1} R_{4} s^{2} + C_{1} L_{1} R_{1} R_{5} s^{2} + 2 C_{1} L_{1} R_{2} R_{3} s^{2} + C_{1} L_{1} R_{2} R_{4} s^{2} + C_{1} L_{1} R_{2} R_{5} s^{2} + C_{1} R_{1} R_{2} R_{3} s + C_{1} R_{1} R_{2} R_{4} s + C_{1} R_{1} R_{3} R_{4} s + C_{1} R_{1} R_{3} R_{5} s + C_{1} R_{1} R_{4} R_{5} s + C_{1} R_{2} R_{3} R_{4} s + C_{1} R_{2} R_{3} R_{5} s + C_{1} R_{2} R_{4} R_{5} s + C_{2} L_{1}^{2} R_{1} s^{3} + C_{2} L_{1}^{2} R_{3} s^{3} + C_{2} L_{1} R_{1} R_{2} s^{2} + C_{2} L_{1} R_{1} R_{4} s^{2} + C_{2} L_{1} R_{1} R_{5} s^{2} + C_{2} L_{1} R_{2} R_{3} s^{2} + C_{2} L_{1} R_{3} R_{4} s^{2} + C_{2} L_{1} R_{3} R_{5} s^{2} + C_{2} R_{1} R_{2} R_{5} s + C_{2} R_{1} R_{4} R_{5} s + C_{2} R_{2} R_{3} R_{5} s + C_{2} R_{3} R_{4} R_{5} s + L_{1}^{2} s^{2} + 2 L_{1} R_{1} s + L_{1} R_{2} s + 2 L_{1} R_{3} s + L_{1} R_{4} s + L_{1} R_{5} s + R_{1} R_{2} + R_{1} R_{4} + R_{1} R_{5} + R_{2} R_{3} + R_{2} R_{5} + R_{3} R_{4} + R_{3} R_{5} + R_{4} R_{5}}{C_{1} C_{2} s^{2}}$"
     },
     "metadata": {}
    },
    {
     "output_type": "display_data",
     "data": {
      "text/plain": "<IPython.core.display.Math object>",
      "text/latex": "$\\displaystyle \\Delta_1= \\frac{C_{1} C_{2} L_{1}^{2} R_{2} U_{1} s^{4} + C_{1} C_{2} L_{1}^{2} R_{3} U_{1} s^{4} + C_{1} C_{2} L_{1} R_{2} R_{3} U_{1} s^{3} + C_{1} C_{2} L_{1} R_{2} R_{4} U_{1} s^{3} + C_{1} C_{2} L_{1} R_{2} R_{5} U_{1} s^{3} + C_{1} C_{2} L_{1} R_{3} R_{4} U_{1} s^{3} + C_{1} C_{2} L_{1} R_{3} R_{5} U_{1} s^{3} + C_{1} C_{2} R_{2} R_{3} R_{5} U_{1} s^{2} + C_{1} C_{2} R_{2} R_{4} R_{5} U_{1} s^{2} + C_{1} C_{2} R_{3} R_{4} R_{5} U_{1} s^{2} + C_{1} L_{1}^{2} U_{1} s^{3} + C_{1} L_{1} R_{2} U_{1} s^{2} + 2 C_{1} L_{1} R_{3} U_{1} s^{2} + C_{1} L_{1} R_{4} U_{1} s^{2} + C_{1} L_{1} R_{5} U_{1} s^{2} + C_{1} R_{2} R_{3} U_{1} s + C_{1} R_{2} R_{4} U_{1} s + C_{1} R_{3} R_{4} U_{1} s + C_{1} R_{3} R_{5} U_{1} s + C_{1} R_{4} R_{5} U_{1} s + C_{2} L_{1}^{2} U_{1} s^{3} + C_{2} L_{1} R_{2} U_{1} s^{2} + C_{2} L_{1} R_{4} U_{1} s^{2} + C_{2} L_{1} R_{5} U_{1} s^{2} + C_{2} R_{2} R_{5} U_{1} s + C_{2} R_{4} R_{5} U_{1} s + 2 L_{1} U_{1} s + R_{2} U_{1} + R_{4} U_{1} + R_{5} U_{1}}{C_{1} C_{2} s^{2}}$"
     },
     "metadata": {}
    },
    {
     "output_type": "display_data",
     "data": {
      "text/plain": "<IPython.core.display.Math object>",
      "text/latex": "$\\displaystyle \\Delta_2= \\frac{C_{1} L_{1} R_{2} U_{1} s^{2} + C_{1} R_{2} R_{3} U_{1} s + C_{1} R_{2} R_{4} U_{1} s + L_{1} U_{1} s + R_{2} U_{1} + R_{4} U_{1}}{C_{1} C_{2} s^{2}}$"
     },
     "metadata": {}
    },
    {
     "output_type": "display_data",
     "data": {
      "text/plain": "<IPython.core.display.Math object>",
      "text/latex": "$\\displaystyle \\Delta_3= \\frac{C_{1} C_{2} L_{1}^{2} R_{2} U_{1} s^{4} + C_{1} C_{2} L_{1} R_{2} R_{3} U_{1} s^{3} + C_{1} C_{2} L_{1} R_{2} R_{4} U_{1} s^{3} + C_{1} C_{2} L_{1} R_{2} R_{5} U_{1} s^{3} + C_{1} C_{2} R_{2} R_{3} R_{5} U_{1} s^{2} + C_{1} C_{2} R_{2} R_{4} R_{5} U_{1} s^{2} + C_{1} L_{1} R_{2} U_{1} s^{2} + C_{1} R_{2} R_{3} U_{1} s + C_{1} R_{2} R_{4} U_{1} s + C_{2} L_{1}^{2} U_{1} s^{3} + C_{2} L_{1} R_{2} U_{1} s^{2} + C_{2} L_{1} R_{4} U_{1} s^{2} + C_{2} L_{1} R_{5} U_{1} s^{2} + C_{2} R_{2} R_{5} U_{1} s + C_{2} R_{4} R_{5} U_{1} s + L_{1} U_{1} s + R_{2} U_{1} + R_{4} U_{1}}{C_{1} C_{2} s^{2}}$"
     },
     "metadata": {}
    },
    {
     "output_type": "display_data",
     "data": {
      "text/plain": "<IPython.core.display.Math object>",
      "text/latex": "$\\displaystyle \\Delta_4= \\frac{C_{1} C_{2} L_{1}^{2} R_{2} U_{1} s^{4} + C_{1} C_{2} L_{1} R_{2} R_{4} U_{1} s^{3} + C_{1} C_{2} L_{1} R_{2} R_{5} U_{1} s^{3} + C_{1} C_{2} R_{2} R_{4} R_{5} U_{1} s^{2} + C_{1} L_{1} R_{2} U_{1} s^{2} + C_{1} R_{2} R_{4} U_{1} s + C_{2} L_{1}^{2} U_{1} s^{3} + C_{2} L_{1} R_{2} U_{1} s^{2} + C_{2} L_{1} R_{4} U_{1} s^{2} + C_{2} L_{1} R_{5} U_{1} s^{2} + C_{2} R_{2} R_{5} U_{1} s + C_{2} R_{4} R_{5} U_{1} s + 2 L_{1} U_{1} s + R_{2} U_{1} + R_{4} U_{1} + R_{5} U_{1}}{C_{1} C_{2} s^{2}}$"
     },
     "metadata": {}
    }
   ],
   "source": [
    "det = Zs.det()\n",
    "det1 = M1.det()\n",
    "det2 = M2.det()\n",
    "det3 = M3.det()\n",
    "det4 = M4.det()\n",
    "\n",
    "tex('\\Delta=', det)\n",
    "tex('\\Delta_1=', det1)\n",
    "tex('\\Delta_2=', det2)\n",
    "tex('\\Delta_3=', det3)\n",
    "tex('\\Delta_4=', det4)"
   ]
  },
  {
   "cell_type": "code",
   "execution_count": 11,
   "metadata": {},
   "outputs": [
    {
     "output_type": "display_data",
     "data": {
      "text/plain": "<IPython.core.display.Math object>",
      "text/latex": "$\\displaystyle I_{S1}= \\frac{C_{1} C_{2} L_{1}^{2} R_{2} U_{1} s^{4} + C_{1} C_{2} L_{1}^{2} R_{3} U_{1} s^{4} + C_{1} C_{2} L_{1} R_{2} R_{3} U_{1} s^{3} + C_{1} C_{2} L_{1} R_{2} R_{4} U_{1} s^{3} + C_{1} C_{2} L_{1} R_{2} R_{5} U_{1} s^{3} + C_{1} C_{2} L_{1} R_{3} R_{4} U_{1} s^{3} + C_{1} C_{2} L_{1} R_{3} R_{5} U_{1} s^{3} + C_{1} C_{2} R_{2} R_{3} R_{5} U_{1} s^{2} + C_{1} C_{2} R_{2} R_{4} R_{5} U_{1} s^{2} + C_{1} C_{2} R_{3} R_{4} R_{5} U_{1} s^{2} + C_{1} L_{1}^{2} U_{1} s^{3} + C_{1} L_{1} R_{2} U_{1} s^{2} + 2 C_{1} L_{1} R_{3} U_{1} s^{2} + C_{1} L_{1} R_{4} U_{1} s^{2} + C_{1} L_{1} R_{5} U_{1} s^{2} + C_{1} R_{2} R_{3} U_{1} s + C_{1} R_{2} R_{4} U_{1} s + C_{1} R_{3} R_{4} U_{1} s + C_{1} R_{3} R_{5} U_{1} s + C_{1} R_{4} R_{5} U_{1} s + C_{2} L_{1}^{2} U_{1} s^{3} + C_{2} L_{1} R_{2} U_{1} s^{2} + C_{2} L_{1} R_{4} U_{1} s^{2} + C_{2} L_{1} R_{5} U_{1} s^{2} + C_{2} R_{2} R_{5} U_{1} s + C_{2} R_{4} R_{5} U_{1} s + 2 L_{1} U_{1} s + R_{2} U_{1} + R_{4} U_{1} + R_{5} U_{1}}{C_{1} C_{2} L_{1}^{2} R_{1} R_{2} s^{4} + C_{1} C_{2} L_{1}^{2} R_{1} R_{3} s^{4} + C_{1} C_{2} L_{1}^{2} R_{2} R_{3} s^{4} + C_{1} C_{2} L_{1} R_{1} R_{2} R_{3} s^{3} + C_{1} C_{2} L_{1} R_{1} R_{2} R_{4} s^{3} + C_{1} C_{2} L_{1} R_{1} R_{2} R_{5} s^{3} + C_{1} C_{2} L_{1} R_{1} R_{3} R_{4} s^{3} + C_{1} C_{2} L_{1} R_{1} R_{3} R_{5} s^{3} + C_{1} C_{2} L_{1} R_{2} R_{3} R_{4} s^{3} + C_{1} C_{2} L_{1} R_{2} R_{3} R_{5} s^{3} + C_{1} C_{2} R_{1} R_{2} R_{3} R_{5} s^{2} + C_{1} C_{2} R_{1} R_{2} R_{4} R_{5} s^{2} + C_{1} C_{2} R_{1} R_{3} R_{4} R_{5} s^{2} + C_{1} C_{2} R_{2} R_{3} R_{4} R_{5} s^{2} + C_{1} L_{1}^{2} R_{1} s^{3} + C_{1} L_{1}^{2} R_{2} s^{3} + C_{1} L_{1} R_{1} R_{2} s^{2} + 2 C_{1} L_{1} R_{1} R_{3} s^{2} + C_{1} L_{1} R_{1} R_{4} s^{2} + C_{1} L_{1} R_{1} R_{5} s^{2} + 2 C_{1} L_{1} R_{2} R_{3} s^{2} + C_{1} L_{1} R_{2} R_{4} s^{2} + C_{1} L_{1} R_{2} R_{5} s^{2} + C_{1} R_{1} R_{2} R_{3} s + C_{1} R_{1} R_{2} R_{4} s + C_{1} R_{1} R_{3} R_{4} s + C_{1} R_{1} R_{3} R_{5} s + C_{1} R_{1} R_{4} R_{5} s + C_{1} R_{2} R_{3} R_{4} s + C_{1} R_{2} R_{3} R_{5} s + C_{1} R_{2} R_{4} R_{5} s + C_{2} L_{1}^{2} R_{1} s^{3} + C_{2} L_{1}^{2} R_{3} s^{3} + C_{2} L_{1} R_{1} R_{2} s^{2} + C_{2} L_{1} R_{1} R_{4} s^{2} + C_{2} L_{1} R_{1} R_{5} s^{2} + C_{2} L_{1} R_{2} R_{3} s^{2} + C_{2} L_{1} R_{3} R_{4} s^{2} + C_{2} L_{1} R_{3} R_{5} s^{2} + C_{2} R_{1} R_{2} R_{5} s + C_{2} R_{1} R_{4} R_{5} s + C_{2} R_{2} R_{3} R_{5} s + C_{2} R_{3} R_{4} R_{5} s + L_{1}^{2} s^{2} + 2 L_{1} R_{1} s + L_{1} R_{2} s + 2 L_{1} R_{3} s + L_{1} R_{4} s + L_{1} R_{5} s + R_{1} R_{2} + R_{1} R_{4} + R_{1} R_{5} + R_{2} R_{3} + R_{2} R_{5} + R_{3} R_{4} + R_{3} R_{5} + R_{4} R_{5}}$"
     },
     "metadata": {}
    },
    {
     "output_type": "display_data",
     "data": {
      "text/plain": "<IPython.core.display.Math object>",
      "text/latex": "$\\displaystyle I_{S2}= \\frac{C_{1} L_{1} R_{2} U_{1} s^{2} + C_{1} R_{2} R_{3} U_{1} s + C_{1} R_{2} R_{4} U_{1} s + L_{1} U_{1} s + R_{2} U_{1} + R_{4} U_{1}}{C_{1} C_{2} L_{1}^{2} R_{1} R_{2} s^{4} + C_{1} C_{2} L_{1}^{2} R_{1} R_{3} s^{4} + C_{1} C_{2} L_{1}^{2} R_{2} R_{3} s^{4} + C_{1} C_{2} L_{1} R_{1} R_{2} R_{3} s^{3} + C_{1} C_{2} L_{1} R_{1} R_{2} R_{4} s^{3} + C_{1} C_{2} L_{1} R_{1} R_{2} R_{5} s^{3} + C_{1} C_{2} L_{1} R_{1} R_{3} R_{4} s^{3} + C_{1} C_{2} L_{1} R_{1} R_{3} R_{5} s^{3} + C_{1} C_{2} L_{1} R_{2} R_{3} R_{4} s^{3} + C_{1} C_{2} L_{1} R_{2} R_{3} R_{5} s^{3} + C_{1} C_{2} R_{1} R_{2} R_{3} R_{5} s^{2} + C_{1} C_{2} R_{1} R_{2} R_{4} R_{5} s^{2} + C_{1} C_{2} R_{1} R_{3} R_{4} R_{5} s^{2} + C_{1} C_{2} R_{2} R_{3} R_{4} R_{5} s^{2} + C_{1} L_{1}^{2} R_{1} s^{3} + C_{1} L_{1}^{2} R_{2} s^{3} + C_{1} L_{1} R_{1} R_{2} s^{2} + 2 C_{1} L_{1} R_{1} R_{3} s^{2} + C_{1} L_{1} R_{1} R_{4} s^{2} + C_{1} L_{1} R_{1} R_{5} s^{2} + 2 C_{1} L_{1} R_{2} R_{3} s^{2} + C_{1} L_{1} R_{2} R_{4} s^{2} + C_{1} L_{1} R_{2} R_{5} s^{2} + C_{1} R_{1} R_{2} R_{3} s + C_{1} R_{1} R_{2} R_{4} s + C_{1} R_{1} R_{3} R_{4} s + C_{1} R_{1} R_{3} R_{5} s + C_{1} R_{1} R_{4} R_{5} s + C_{1} R_{2} R_{3} R_{4} s + C_{1} R_{2} R_{3} R_{5} s + C_{1} R_{2} R_{4} R_{5} s + C_{2} L_{1}^{2} R_{1} s^{3} + C_{2} L_{1}^{2} R_{3} s^{3} + C_{2} L_{1} R_{1} R_{2} s^{2} + C_{2} L_{1} R_{1} R_{4} s^{2} + C_{2} L_{1} R_{1} R_{5} s^{2} + C_{2} L_{1} R_{2} R_{3} s^{2} + C_{2} L_{1} R_{3} R_{4} s^{2} + C_{2} L_{1} R_{3} R_{5} s^{2} + C_{2} R_{1} R_{2} R_{5} s + C_{2} R_{1} R_{4} R_{5} s + C_{2} R_{2} R_{3} R_{5} s + C_{2} R_{3} R_{4} R_{5} s + L_{1}^{2} s^{2} + 2 L_{1} R_{1} s + L_{1} R_{2} s + 2 L_{1} R_{3} s + L_{1} R_{4} s + L_{1} R_{5} s + R_{1} R_{2} + R_{1} R_{4} + R_{1} R_{5} + R_{2} R_{3} + R_{2} R_{5} + R_{3} R_{4} + R_{3} R_{5} + R_{4} R_{5}}$"
     },
     "metadata": {}
    },
    {
     "output_type": "display_data",
     "data": {
      "text/plain": "<IPython.core.display.Math object>",
      "text/latex": "$\\displaystyle I_{S3}= \\frac{C_{1} C_{2} L_{1}^{2} R_{2} U_{1} s^{4} + C_{1} C_{2} L_{1} R_{2} R_{3} U_{1} s^{3} + C_{1} C_{2} L_{1} R_{2} R_{4} U_{1} s^{3} + C_{1} C_{2} L_{1} R_{2} R_{5} U_{1} s^{3} + C_{1} C_{2} R_{2} R_{3} R_{5} U_{1} s^{2} + C_{1} C_{2} R_{2} R_{4} R_{5} U_{1} s^{2} + C_{1} L_{1} R_{2} U_{1} s^{2} + C_{1} R_{2} R_{3} U_{1} s + C_{1} R_{2} R_{4} U_{1} s + C_{2} L_{1}^{2} U_{1} s^{3} + C_{2} L_{1} R_{2} U_{1} s^{2} + C_{2} L_{1} R_{4} U_{1} s^{2} + C_{2} L_{1} R_{5} U_{1} s^{2} + C_{2} R_{2} R_{5} U_{1} s + C_{2} R_{4} R_{5} U_{1} s + L_{1} U_{1} s + R_{2} U_{1} + R_{4} U_{1}}{C_{1} C_{2} L_{1}^{2} R_{1} R_{2} s^{4} + C_{1} C_{2} L_{1}^{2} R_{1} R_{3} s^{4} + C_{1} C_{2} L_{1}^{2} R_{2} R_{3} s^{4} + C_{1} C_{2} L_{1} R_{1} R_{2} R_{3} s^{3} + C_{1} C_{2} L_{1} R_{1} R_{2} R_{4} s^{3} + C_{1} C_{2} L_{1} R_{1} R_{2} R_{5} s^{3} + C_{1} C_{2} L_{1} R_{1} R_{3} R_{4} s^{3} + C_{1} C_{2} L_{1} R_{1} R_{3} R_{5} s^{3} + C_{1} C_{2} L_{1} R_{2} R_{3} R_{4} s^{3} + C_{1} C_{2} L_{1} R_{2} R_{3} R_{5} s^{3} + C_{1} C_{2} R_{1} R_{2} R_{3} R_{5} s^{2} + C_{1} C_{2} R_{1} R_{2} R_{4} R_{5} s^{2} + C_{1} C_{2} R_{1} R_{3} R_{4} R_{5} s^{2} + C_{1} C_{2} R_{2} R_{3} R_{4} R_{5} s^{2} + C_{1} L_{1}^{2} R_{1} s^{3} + C_{1} L_{1}^{2} R_{2} s^{3} + C_{1} L_{1} R_{1} R_{2} s^{2} + 2 C_{1} L_{1} R_{1} R_{3} s^{2} + C_{1} L_{1} R_{1} R_{4} s^{2} + C_{1} L_{1} R_{1} R_{5} s^{2} + 2 C_{1} L_{1} R_{2} R_{3} s^{2} + C_{1} L_{1} R_{2} R_{4} s^{2} + C_{1} L_{1} R_{2} R_{5} s^{2} + C_{1} R_{1} R_{2} R_{3} s + C_{1} R_{1} R_{2} R_{4} s + C_{1} R_{1} R_{3} R_{4} s + C_{1} R_{1} R_{3} R_{5} s + C_{1} R_{1} R_{4} R_{5} s + C_{1} R_{2} R_{3} R_{4} s + C_{1} R_{2} R_{3} R_{5} s + C_{1} R_{2} R_{4} R_{5} s + C_{2} L_{1}^{2} R_{1} s^{3} + C_{2} L_{1}^{2} R_{3} s^{3} + C_{2} L_{1} R_{1} R_{2} s^{2} + C_{2} L_{1} R_{1} R_{4} s^{2} + C_{2} L_{1} R_{1} R_{5} s^{2} + C_{2} L_{1} R_{2} R_{3} s^{2} + C_{2} L_{1} R_{3} R_{4} s^{2} + C_{2} L_{1} R_{3} R_{5} s^{2} + C_{2} R_{1} R_{2} R_{5} s + C_{2} R_{1} R_{4} R_{5} s + C_{2} R_{2} R_{3} R_{5} s + C_{2} R_{3} R_{4} R_{5} s + L_{1}^{2} s^{2} + 2 L_{1} R_{1} s + L_{1} R_{2} s + 2 L_{1} R_{3} s + L_{1} R_{4} s + L_{1} R_{5} s + R_{1} R_{2} + R_{1} R_{4} + R_{1} R_{5} + R_{2} R_{3} + R_{2} R_{5} + R_{3} R_{4} + R_{3} R_{5} + R_{4} R_{5}}$"
     },
     "metadata": {}
    },
    {
     "output_type": "display_data",
     "data": {
      "text/plain": "<IPython.core.display.Math object>",
      "text/latex": "$\\displaystyle I_{S4}= \\frac{C_{1} C_{2} L_{1}^{2} R_{2} U_{1} s^{4} + C_{1} C_{2} L_{1} R_{2} R_{4} U_{1} s^{3} + C_{1} C_{2} L_{1} R_{2} R_{5} U_{1} s^{3} + C_{1} C_{2} R_{2} R_{4} R_{5} U_{1} s^{2} + C_{1} L_{1} R_{2} U_{1} s^{2} + C_{1} R_{2} R_{4} U_{1} s + C_{2} L_{1}^{2} U_{1} s^{3} + C_{2} L_{1} R_{2} U_{1} s^{2} + C_{2} L_{1} R_{4} U_{1} s^{2} + C_{2} L_{1} R_{5} U_{1} s^{2} + C_{2} R_{2} R_{5} U_{1} s + C_{2} R_{4} R_{5} U_{1} s + 2 L_{1} U_{1} s + R_{2} U_{1} + R_{4} U_{1} + R_{5} U_{1}}{C_{1} C_{2} L_{1}^{2} R_{1} R_{2} s^{4} + C_{1} C_{2} L_{1}^{2} R_{1} R_{3} s^{4} + C_{1} C_{2} L_{1}^{2} R_{2} R_{3} s^{4} + C_{1} C_{2} L_{1} R_{1} R_{2} R_{3} s^{3} + C_{1} C_{2} L_{1} R_{1} R_{2} R_{4} s^{3} + C_{1} C_{2} L_{1} R_{1} R_{2} R_{5} s^{3} + C_{1} C_{2} L_{1} R_{1} R_{3} R_{4} s^{3} + C_{1} C_{2} L_{1} R_{1} R_{3} R_{5} s^{3} + C_{1} C_{2} L_{1} R_{2} R_{3} R_{4} s^{3} + C_{1} C_{2} L_{1} R_{2} R_{3} R_{5} s^{3} + C_{1} C_{2} R_{1} R_{2} R_{3} R_{5} s^{2} + C_{1} C_{2} R_{1} R_{2} R_{4} R_{5} s^{2} + C_{1} C_{2} R_{1} R_{3} R_{4} R_{5} s^{2} + C_{1} C_{2} R_{2} R_{3} R_{4} R_{5} s^{2} + C_{1} L_{1}^{2} R_{1} s^{3} + C_{1} L_{1}^{2} R_{2} s^{3} + C_{1} L_{1} R_{1} R_{2} s^{2} + 2 C_{1} L_{1} R_{1} R_{3} s^{2} + C_{1} L_{1} R_{1} R_{4} s^{2} + C_{1} L_{1} R_{1} R_{5} s^{2} + 2 C_{1} L_{1} R_{2} R_{3} s^{2} + C_{1} L_{1} R_{2} R_{4} s^{2} + C_{1} L_{1} R_{2} R_{5} s^{2} + C_{1} R_{1} R_{2} R_{3} s + C_{1} R_{1} R_{2} R_{4} s + C_{1} R_{1} R_{3} R_{4} s + C_{1} R_{1} R_{3} R_{5} s + C_{1} R_{1} R_{4} R_{5} s + C_{1} R_{2} R_{3} R_{4} s + C_{1} R_{2} R_{3} R_{5} s + C_{1} R_{2} R_{4} R_{5} s + C_{2} L_{1}^{2} R_{1} s^{3} + C_{2} L_{1}^{2} R_{3} s^{3} + C_{2} L_{1} R_{1} R_{2} s^{2} + C_{2} L_{1} R_{1} R_{4} s^{2} + C_{2} L_{1} R_{1} R_{5} s^{2} + C_{2} L_{1} R_{2} R_{3} s^{2} + C_{2} L_{1} R_{3} R_{4} s^{2} + C_{2} L_{1} R_{3} R_{5} s^{2} + C_{2} R_{1} R_{2} R_{5} s + C_{2} R_{1} R_{4} R_{5} s + C_{2} R_{2} R_{3} R_{5} s + C_{2} R_{3} R_{4} R_{5} s + L_{1}^{2} s^{2} + 2 L_{1} R_{1} s + L_{1} R_{2} s + 2 L_{1} R_{3} s + L_{1} R_{4} s + L_{1} R_{5} s + R_{1} R_{2} + R_{1} R_{4} + R_{1} R_{5} + R_{2} R_{3} + R_{2} R_{5} + R_{3} R_{4} + R_{3} R_{5} + R_{4} R_{5}}$"
     },
     "metadata": {}
    }
   ],
   "source": [
    "Is1 = det1 / det\n",
    "Is2 = det2 / det\n",
    "Is3 = det3 / det\n",
    "Is4 = det4 / det\n",
    "tex('I_{S1}=', Is1)\n",
    "tex('I_{S2}=', Is2)\n",
    "tex('I_{S3}=', Is3)\n",
    "tex('I_{S4}=', Is4)"
   ]
  }
 ]
}