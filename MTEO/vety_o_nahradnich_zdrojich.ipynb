{
 "metadata": {
  "language_info": {
   "codemirror_mode": {
    "name": "ipython",
    "version": 3
   },
   "file_extension": ".py",
   "mimetype": "text/x-python",
   "name": "python",
   "nbconvert_exporter": "python",
   "pygments_lexer": "ipython3",
   "version": 3
  },
  "orig_nbformat": 2
 },
 "nbformat": 4,
 "nbformat_minor": 2,
 "cells": [
  {
   "cell_type": "markdown",
   "metadata": {},
   "source": [
    "# Věty o náhradních zdrojích\n",
    "* lze aplikovat pouze u lineárních nebo linearizovaných obvodů\n",
    "* použijeme, když chceme zjistit napětí a proud v jedné větvi složitého obvodu\n",
    "* složitý obvod nahradíme jediným zdrojem napětí s nějakým vnitřním odporem\n",
    "* při výpočtu často používáme princip superpozice\n",
    "\n",
    "Vzhledem k dualitě obvodů existuje __Théveninův__ i __Nortonův teorém,__ pro jejich aplikaci platí stejná pravidla.\n",
    "\n",
    "* napětí náhradního zdroje $U_N$ je dáno napětím na vyšetřovaných svorkách $A$, $B$ naprázdno (Thévenin)\n",
    "* proud náhradního zdroje $I_N$ je dáno proudem na vyšetřovaných svorkách $A$, $B$ nakrátko (Norton)\n",
    "* vnitřní odpor $R_N$ je roven vstupnímu odporu $R_i$ nahrazovaného obvodu na svorkách $A$, $B$ při deaktivovaných nezávislých zdrojích\n",
    "* ideální __zdroje napětí__ nahrazujeme __zkratem__, ideální __zdroje proudu rozpojením__ při zjišťování vnitřního odporu."
   ]
  }
 ]
}